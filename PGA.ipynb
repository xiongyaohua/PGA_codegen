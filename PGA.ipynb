{
 "cells": [
  {
   "cell_type": "code",
   "execution_count": 32,
   "metadata": {},
   "outputs": [],
   "source": [
    "from kingdon import Algebra\n",
    "from sympy import ccode"
   ]
  },
  {
   "cell_type": "code",
   "execution_count": 2,
   "metadata": {},
   "outputs": [],
   "source": [
    "alg = Algebra(2, 0, 1)"
   ]
  },
  {
   "cell_type": "code",
   "execution_count": 6,
   "metadata": {},
   "outputs": [],
   "source": [
    "a = alg.multivector(name=\"a\")\n",
    "b = alg.multivector(name=\"b\")"
   ]
  },
  {
   "cell_type": "code",
   "execution_count": 23,
   "metadata": {},
   "outputs": [
    {
     "data": {
      "text/plain": [
       "{0: 'e', 1: 'e0', 2: 'e1', 3: 'e01', 4: 'e2', 5: 'e02', 6: 'e12', 7: 'e012'}"
      ]
     },
     "execution_count": 23,
     "metadata": {},
     "output_type": "execute_result"
    }
   ],
   "source": [
    "alg.bin2canon"
   ]
  },
  {
   "cell_type": "code",
   "execution_count": 30,
   "metadata": {},
   "outputs": [],
   "source": [
    "r = a * b"
   ]
  },
  {
   "cell_type": "code",
   "execution_count": 34,
   "metadata": {},
   "outputs": [
    {
     "data": {
      "text/plain": [
       "'a*b + a1*b1 - a12*b12 + a2*b2'"
      ]
     },
     "execution_count": 34,
     "metadata": {},
     "output_type": "execute_result"
    }
   ],
   "source": [
    "code = ccode(r.values()[0])\n",
    "code"
   ]
  },
  {
   "cell_type": "code",
   "execution_count": 36,
   "metadata": {},
   "outputs": [
    {
     "data": {
      "text/plain": [
       "'a.e*b.e + a.e1*b.e1 - a.e12*b.e12 + a.e2*b.e2'"
      ]
     },
     "execution_count": 36,
     "metadata": {},
     "output_type": "execute_result"
    }
   ],
   "source": [
    "code.replace(\"a\", \"a.e\").replace(\"b\", \"b.e\")"
   ]
  },
  {
   "cell_type": "code",
   "execution_count": 61,
   "metadata": {},
   "outputs": [
    {
     "name": "stdout",
     "output_type": "stream",
     "text": [
      "#define GP_full \\\n",
      "    r.e += a.e*b.e + a.e1*b.e1 - a.e12*b.e12 + a.e2*b.e2;\\\n",
      "    r.e0 += a.e*b.e0 + a.e0*b.e + a.e01*b.e1 - a.e012*b.e12 + a.e02*b.e2 - a.e1*b.e01 - a.e12*b.e012 - a.e2*b.e02;\\\n",
      "    r.e1 += a.e*b.e1 + a.e1*b.e + a.e12*b.e2 - a.e2*b.e12;\\\n",
      "    r.e2 += a.e*b.e2 + a.e1*b.e12 - a.e12*b.e1 + a.e2*b.e;\\\n",
      "    r.e01 += a.e*b.e01 + a.e0*b.e1 + a.e01*b.e + a.e012*b.e2 - a.e02*b.e12 - a.e1*b.e0 + a.e12*b.e02 + a.e2*b.e012;\\\n",
      "    r.e02 += a.e*b.e02 + a.e0*b.e2 + a.e01*b.e12 - a.e012*b.e1 + a.e02*b.e - a.e1*b.e012 - a.e12*b.e01 - a.e2*b.e0;\\\n",
      "    r.e12 += a.e*b.e12 + a.e1*b.e2 + a.e12*b.e - a.e2*b.e1;\\\n",
      "    r.e012 += a.e*b.e012 + a.e0*b.e12 + a.e01*b.e2 + a.e012*b.e - a.e02*b.e1 - a.e1*b.e02 + a.e12*b.e0 + a.e2*b.e01;\n"
     ]
    }
   ],
   "source": [
    "# Convert multivector to C++ macro code\n",
    "def mv_to_code(mv, name):\n",
    "    lines = []\n",
    "    for key, value in zip(mv.keys(), mv.values()):\n",
    "        key = \"    r.\" + alg.bin2canon[key]\n",
    "        value = ccode(value).replace(\"a\", \"a.e\").replace(\"b\", \"b.e\")\n",
    "        line = key + \" += \" + value + \";\"\n",
    "        lines.append(line)\n",
    "    code = \"\\\\\\n\".join(lines)\n",
    "    code = \"#define {} \\\\\\n\".format(name) + code\n",
    "    return code\n",
    "\n",
    "fragment = mv_to_code(r, \"GP_full\")\n",
    "print(fragment)\n"
   ]
  },
  {
   "cell_type": "code",
   "execution_count": 69,
   "metadata": {},
   "outputs": [],
   "source": [
    "def generate_fragments():\n",
    "    frags = []\n",
    "\n",
    "    a = alg.multivector(name=\"a\")\n",
    "    b = alg.multivector(name=\"b\")\n",
    "    # Geometric Product in full\n",
    "    r = a * b\n",
    "    frag = mv_to_code(r, \"GP_FULL\")\n",
    "    frags.append(frag)\n",
    "    \n",
    "    # Outer Product in full\n",
    "    r = a ^ b\n",
    "    frag = mv_to_code(r, \"OP_FULL\")\n",
    "    frags.append(frag)\n",
    "    \n",
    "    # Inner Product in full\n",
    "    r = a | b\n",
    "    frag = mv_to_code(r, \"IP_FULL\")\n",
    "    frags.append(frag)\n",
    "\n",
    "    # Regressive Product in full\n",
    "    r = a & b\n",
    "    frag = mv_to_code(r, \"RP_FULL\")\n",
    "    frags.append(frag)\n",
    "\n",
    "    # TOO EXPENSIVE\n",
    "    # Sandwitch(Conjugate) Product in full\n",
    "    # Project in full\n",
    "\n",
    "    # Geometric Product in grades\n",
    "    for i in range(4):\n",
    "        for j in range(4):\n",
    "            a = alg.multivector(name=\"a\", grades=(i,))\n",
    "            b = alg.multivector(name=\"b\", grades=(j,))\n",
    "            r = a * b\n",
    "            frag = mv_to_code(r, \"GP_{}_{}\".format(i, j))\n",
    "            frags.append(frag)\n",
    "\n",
    "    # Outer Product in grades\n",
    "    for i in range(4):\n",
    "        for j in range(4):\n",
    "            a = alg.multivector(name=\"a\", grades=(i,))\n",
    "            b = alg.multivector(name=\"b\", grades=(j,))\n",
    "            r = a ^ b\n",
    "            frag = mv_to_code(r, \"OP_{}_{}\".format(i, j))\n",
    "            frags.append(frag)\n",
    "    \n",
    "    # Inner Product in grades\n",
    "    for i in range(4):\n",
    "        for j in range(4):\n",
    "            a = alg.multivector(name=\"a\", grades=(i,))\n",
    "            b = alg.multivector(name=\"b\", grades=(j,))\n",
    "            r = a | b\n",
    "            frag = mv_to_code(r, \"IP_{}_{}\".format(i, j))\n",
    "            frags.append(frag)\n",
    "\n",
    "    # Regressive Product in grades\n",
    "    # TODO: check is RP splitable\n",
    "    for i in range(4):\n",
    "        for j in range(4):\n",
    "            a = alg.multivector(name=\"a\", grades=(i,))\n",
    "            b = alg.multivector(name=\"b\", grades=(j,))\n",
    "            r = a | b\n",
    "            frag = mv_to_code(r, \"RP_{}_{}\".format(i, j))\n",
    "            frags.append(frag)\n",
    "\n",
    "    return \"\\n\\n\".join(frags)\n",
    "\n",
    "code = generate_fragments()\n",
    "with open(\"pga2.inc.h\", \"w\") as f:\n",
    "    f.write(code)"
   ]
  },
  {
   "cell_type": "code",
   "execution_count": null,
   "metadata": {},
   "outputs": [],
   "source": []
  }
 ],
 "metadata": {
  "kernelspec": {
   "display_name": ".venv",
   "language": "python",
   "name": "python3"
  },
  "language_info": {
   "codemirror_mode": {
    "name": "ipython",
    "version": 3
   },
   "file_extension": ".py",
   "mimetype": "text/x-python",
   "name": "python",
   "nbconvert_exporter": "python",
   "pygments_lexer": "ipython3",
   "version": "3.12.4"
  }
 },
 "nbformat": 4,
 "nbformat_minor": 2
}
