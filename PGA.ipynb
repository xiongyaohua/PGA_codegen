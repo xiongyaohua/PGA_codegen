{
 "cells": [
  {
   "cell_type": "code",
   "execution_count": 1,
   "metadata": {},
   "outputs": [],
   "source": [
    "from kingdon import Algebra\n",
    "from sympy import ccode"
   ]
  },
  {
   "cell_type": "code",
   "execution_count": 2,
   "metadata": {},
   "outputs": [],
   "source": [
    "alg = Algebra(2, 0, 1)"
   ]
  },
  {
   "cell_type": "code",
   "execution_count": 3,
   "metadata": {},
   "outputs": [],
   "source": [
    "a = alg.multivector(name=\"a\")\n",
    "b = alg.multivector(name=\"b\")"
   ]
  },
  {
   "cell_type": "code",
   "execution_count": 4,
   "metadata": {},
   "outputs": [
    {
     "data": {
      "text/plain": [
       "{0: 'e', 1: 'e0', 2: 'e1', 3: 'e01', 4: 'e2', 5: 'e02', 6: 'e12', 7: 'e012'}"
      ]
     },
     "execution_count": 4,
     "metadata": {},
     "output_type": "execute_result"
    }
   ],
   "source": [
    "alg.bin2canon"
   ]
  },
  {
   "cell_type": "code",
   "execution_count": 5,
   "metadata": {},
   "outputs": [],
   "source": [
    "r = a * b"
   ]
  },
  {
   "cell_type": "code",
   "execution_count": 6,
   "metadata": {},
   "outputs": [
    {
     "data": {
      "text/plain": [
       "'a*b + a1*b1 - a12*b12 + a2*b2'"
      ]
     },
     "execution_count": 6,
     "metadata": {},
     "output_type": "execute_result"
    }
   ],
   "source": [
    "code = ccode(r.values()[0])\n",
    "code"
   ]
  },
  {
   "cell_type": "code",
   "execution_count": 7,
   "metadata": {},
   "outputs": [
    {
     "data": {
      "text/plain": [
       "'a.e*b.e + a.e1*b.e1 - a.e12*b.e12 + a.e2*b.e2'"
      ]
     },
     "execution_count": 7,
     "metadata": {},
     "output_type": "execute_result"
    }
   ],
   "source": [
    "code.replace(\"a\", \"a.e\").replace(\"b\", \"b.e\")"
   ]
  },
  {
   "cell_type": "code",
   "execution_count": 16,
   "metadata": {},
   "outputs": [
    {
     "name": "stdout",
     "output_type": "stream",
     "text": [
      "#define GP_full \\\n",
      "    r.e += p_a.e*p_b.e + p_a.e1*p_b.e1 - p_a.e12*p_b.e12 + p_a.e2*p_b.e2;\\\n",
      "    r.e0 += p_a.e*p_b.e0 + p_a.e0*p_b.e + p_a.e01*p_b.e1 - p_a.e012*p_b.e12 + p_a.e02*p_b.e2 - p_a.e1*p_b.e01 - p_a.e12*p_b.e012 - p_a.e2*p_b.e02;\\\n",
      "    r.e1 += p_a.e*p_b.e1 + p_a.e1*p_b.e + p_a.e12*p_b.e2 - p_a.e2*p_b.e12;\\\n",
      "    r.e2 += p_a.e*p_b.e2 + p_a.e1*p_b.e12 - p_a.e12*p_b.e1 + p_a.e2*p_b.e;\\\n",
      "    r.e01 += p_a.e*p_b.e01 + p_a.e0*p_b.e1 + p_a.e01*p_b.e + p_a.e012*p_b.e2 - p_a.e02*p_b.e12 - p_a.e1*p_b.e0 + p_a.e12*p_b.e02 + p_a.e2*p_b.e012;\\\n",
      "    r.e02 += p_a.e*p_b.e02 + p_a.e0*p_b.e2 + p_a.e01*p_b.e12 - p_a.e012*p_b.e1 + p_a.e02*p_b.e - p_a.e1*p_b.e012 - p_a.e12*p_b.e01 - p_a.e2*p_b.e0;\\\n",
      "    r.e12 += p_a.e*p_b.e12 + p_a.e1*p_b.e2 + p_a.e12*p_b.e - p_a.e2*p_b.e1;\\\n",
      "    r.e012 += p_a.e*p_b.e012 + p_a.e0*p_b.e12 + p_a.e01*p_b.e2 + p_a.e012*p_b.e - p_a.e02*p_b.e1 - p_a.e1*p_b.e02 + p_a.e12*p_b.e0 + p_a.e2*p_b.e01;\n"
     ]
    }
   ],
   "source": [
    "# Convert multivector to C++ macro code\n",
    "def mv_to_code(mv, name, op=\"+=\"):\n",
    "    lines = []\n",
    "    for key, value in zip(mv.keys(), mv.values()):\n",
    "        key = \"    r.\" + alg.bin2canon[key]\n",
    "        value = ccode(value).replace(\"a\", \"p_a.e\").replace(\"b\", \"p_b.e\")\n",
    "        line = key + f\" {op} \" + value + \";\"\n",
    "        lines.append(line)\n",
    "    code = \"\\\\\\n\".join(lines)\n",
    "    code = \"#define {} \\\\\\n\".format(name) + code\n",
    "    return code\n",
    "\n",
    "fragment = mv_to_code(r, \"GP_full\")\n",
    "print(fragment)\n"
   ]
  },
  {
   "cell_type": "code",
   "execution_count": 30,
   "metadata": {},
   "outputs": [],
   "source": [
    "def generate_binary_op(name=\"GP\", op=lambda a, b: a * b):\n",
    "    frags = []\n",
    "    for i in range(4):\n",
    "        for j in range(4):\n",
    "            a = alg.multivector(name=\"a\", grades=(i,))\n",
    "            b = alg.multivector(name=\"b\", grades=(j,))\n",
    "            r = op(a, b)\n",
    "            frag = mv_to_code(r, \"{}_{}_{}\".format(name, i, j), \"+=\")\n",
    "            frags.append(frag)\n",
    "\n",
    "    return frags\n",
    "\n",
    "def generate_unary_op(name=\"REVERSE\", op=lambda a: a.reverse()):\n",
    "    frags = []\n",
    "    for i in range(4):\n",
    "        a = alg.multivector(name=\"a\", grades=(i,))\n",
    "        r = op(a)\n",
    "        frag = mv_to_code(r, \"{}_{}\".format(name, i), \"=\")\n",
    "        frags.append(frag)\n",
    "\n",
    "    return frags\n",
    "\n",
    "\n",
    "\n",
    "def generate_fragments():\n",
    "    frags = []\n",
    "\n",
    "    # NO NECESSARY\n",
    "    # Geometric Product in full\n",
    "    # Outer Product in full\n",
    "    # Inner Product in full\n",
    "    # Regressive Product in full\n",
    "\n",
    "    # TOO EXPENSIVE\n",
    "    # Sandwitch(Conjugate) Product in full\n",
    "    # Project in full\n",
    "\n",
    "    # Geometric Product in grades\n",
    "    frags += generate_binary_op(name=\"GP\", op=lambda a, b: a * b)\n",
    "\n",
    "    # Outer Product in grades\n",
    "    frags += generate_binary_op(name=\"OP\", op=lambda a, b: a ^ b)\n",
    "    \n",
    "    # Inner Product in grades\n",
    "    frags += generate_binary_op(name=\"IP\", op=lambda a, b: a | b)\n",
    "\n",
    "    # Regressive Product in grades\n",
    "    # TODO: check is RP splitable\n",
    "    frags += generate_binary_op(name=\"RP\", op=lambda a, b: a & b)\n",
    "    \n",
    "    # Commutator Product\n",
    "    frags += generate_binary_op(name=\"CP\", op=lambda a, b: a.cp(b))\n",
    "\n",
    "    # Reverse\n",
    "    frags += generate_unary_op(name=\"REVERSE\", op=lambda a: a.reverse())\n",
    "    # Dual\n",
    "    frags += generate_unary_op(name=\"DUAL\", op=lambda a: a.dual())\n",
    "    \n",
    "    # Undual, the same with Dual\n",
    "\n",
    "    return \"\\n\\n\".join(frags)\n",
    "\n",
    "header = \"\"\"// Generate from https://github.com/xiongyaohua/PGA_codegen\n",
    "\n",
    "\"\"\"\n",
    "code = header + generate_fragments()\n",
    "with open(\"pga2.inc\", \"w\") as f:\n",
    "    f.write(code)"
   ]
  },
  {
   "cell_type": "code",
   "execution_count": null,
   "metadata": {},
   "outputs": [],
   "source": []
  }
 ],
 "metadata": {
  "kernelspec": {
   "display_name": ".venv",
   "language": "python",
   "name": "python3"
  },
  "language_info": {
   "codemirror_mode": {
    "name": "ipython",
    "version": 3
   },
   "file_extension": ".py",
   "mimetype": "text/x-python",
   "name": "python",
   "nbconvert_exporter": "python",
   "pygments_lexer": "ipython3",
   "version": "3.12.4"
  }
 },
 "nbformat": 4,
 "nbformat_minor": 2
}
