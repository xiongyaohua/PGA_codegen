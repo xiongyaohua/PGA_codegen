{
 "cells": [
  {
   "cell_type": "code",
   "execution_count": 67,
   "metadata": {},
   "outputs": [],
   "source": [
    "from kingdon import Algebra\n",
    "from sympy import ccode, symbols"
   ]
  },
  {
   "cell_type": "code",
   "execution_count": 68,
   "metadata": {},
   "outputs": [],
   "source": [
    "alg = Algebra(2, 0, 1)"
   ]
  },
  {
   "cell_type": "code",
   "execution_count": 69,
   "metadata": {},
   "outputs": [],
   "source": [
    "a = alg.multivector(name=\"a\")\n",
    "b = alg.multivector(name=\"b\")"
   ]
  },
  {
   "cell_type": "code",
   "execution_count": 70,
   "metadata": {},
   "outputs": [
    {
     "data": {
      "text/plain": [
       "{0: 'e', 1: 'e0', 2: 'e1', 3: 'e01', 4: 'e2', 5: 'e02', 6: 'e12', 7: 'e012'}"
      ]
     },
     "execution_count": 70,
     "metadata": {},
     "output_type": "execute_result"
    }
   ],
   "source": [
    "alg.bin2canon"
   ]
  },
  {
   "cell_type": "code",
   "execution_count": 71,
   "metadata": {},
   "outputs": [],
   "source": [
    "r = a * b"
   ]
  },
  {
   "cell_type": "code",
   "execution_count": 72,
   "metadata": {},
   "outputs": [
    {
     "data": {
      "text/plain": [
       "'a*b + a1*b1 - a12*b12 + a2*b2'"
      ]
     },
     "execution_count": 72,
     "metadata": {},
     "output_type": "execute_result"
    }
   ],
   "source": [
    "code = ccode(r.values()[0])\n",
    "code"
   ]
  },
  {
   "cell_type": "code",
   "execution_count": 73,
   "metadata": {},
   "outputs": [
    {
     "data": {
      "text/plain": [
       "'a.e*b.e + a.e1*b.e1 - a.e12*b.e12 + a.e2*b.e2'"
      ]
     },
     "execution_count": 73,
     "metadata": {},
     "output_type": "execute_result"
    }
   ],
   "source": [
    "code.replace(\"a\", \"a.e\").replace(\"b\", \"b.e\")"
   ]
  },
  {
   "cell_type": "code",
   "execution_count": 74,
   "metadata": {},
   "outputs": [
    {
     "name": "stdout",
     "output_type": "stream",
     "text": [
      "#define GP_full \\\n",
      "    r.e += a.e*b.e + a.e1*b.e1 - a.e12*b.e12 + a.e2*b.e2;\\\n",
      "    r.e0 += a.e*b.e0 + a.e0*b.e + a.e01*b.e1 - a.e012*b.e12 + a.e02*b.e2 - a.e1*b.e01 - a.e12*b.e012 - a.e2*b.e02;\\\n",
      "    r.e1 += a.e*b.e1 + a.e1*b.e + a.e12*b.e2 - a.e2*b.e12;\\\n",
      "    r.e2 += a.e*b.e2 + a.e1*b.e12 - a.e12*b.e1 + a.e2*b.e;\\\n",
      "    r.e01 += a.e*b.e01 + a.e0*b.e1 + a.e01*b.e + a.e012*b.e2 - a.e02*b.e12 - a.e1*b.e0 + a.e12*b.e02 + a.e2*b.e012;\\\n",
      "    r.e02 += a.e*b.e02 + a.e0*b.e2 + a.e01*b.e12 - a.e012*b.e1 + a.e02*b.e - a.e1*b.e012 - a.e12*b.e01 - a.e2*b.e0;\\\n",
      "    r.e12 += a.e*b.e12 + a.e1*b.e2 + a.e12*b.e - a.e2*b.e1;\\\n",
      "    r.e012 += a.e*b.e012 + a.e0*b.e12 + a.e01*b.e2 + a.e012*b.e - a.e02*b.e1 - a.e1*b.e02 + a.e12*b.e0 + a.e2*b.e01;\n"
     ]
    }
   ],
   "source": [
    "# Convert multivector to C++ macro code\n",
    "def mv_to_code(mv, name, op=\"+=\"):\n",
    "    lines = []\n",
    "    for key, value in zip(mv.keys(), mv.values()):\n",
    "        key = \"    r.\" + alg.bin2canon[key]\n",
    "        value = ccode(value).replace(\"a\", \"a.e\").replace(\"b\", \"b.e\")\n",
    "        line = key + f\" {op} \" + value + \";\"\n",
    "        lines.append(line)\n",
    "    code = \"\\\\\\n\".join(lines)\n",
    "    code = \"#define {} \\\\\\n\".format(name) + code\n",
    "    return code\n",
    "\n",
    "fragment = mv_to_code(r, \"GP_full\")\n",
    "print(fragment)\n"
   ]
  },
  {
   "cell_type": "code",
   "execution_count": 75,
   "metadata": {},
   "outputs": [],
   "source": [
    "def generate_product_op(name=\"GP\", op=lambda a, b: a * b):\n",
    "    frags = []\n",
    "    for i in range(4):\n",
    "        for j in range(4):\n",
    "            a = alg.multivector(name=\"a\", grades=(i,))\n",
    "            b = alg.multivector(name=\"b\", grades=(j,))\n",
    "            r = op(a, b)\n",
    "            frag = mv_to_code(r, \"{}_{}_{}(r, a, b, op)\".format(name, i, j), \"op\")\n",
    "            frags.append(frag)\n",
    "\n",
    "    return frags\n",
    "\n",
    "def generate_product_op_full(name=\"GP\", op=lambda a, b: a * b):\n",
    "    frags = []\n",
    "    a = alg.multivector(name=\"a\")\n",
    "    b = alg.multivector(name=\"b\")\n",
    "    r = op(a, b)\n",
    "    frag = mv_to_code(r, \"{}_FULL(r, a, b)\".format(name), \"=\")\n",
    "    frags.append(frag)\n",
    "\n",
    "    return frags\n",
    "\n",
    "def generate_additive_op(name=\"ADD\", op=lambda a, b: a + b):\n",
    "    frags = []\n",
    "    for i in range(4):\n",
    "        a = alg.multivector(name=\"a\", grades=(i,))\n",
    "        b = alg.multivector(name=\"b\", grades=(i,))\n",
    "        r = op(a, b)\n",
    "        frag = mv_to_code(r, \"{}_{}(r, a, b, op)\".format(name, i), \"op\")\n",
    "        frags.append(frag)\n",
    "\n",
    "    return frags\n",
    "\n",
    "def generate_scalar_op(name=\"Mul\", op=lambda a, b: a + b):\n",
    "    frags = []\n",
    "    b = alg.scalar(\"b\")\n",
    "    for i in range(4):\n",
    "        a = alg.multivector(name=\"a\", grades=(i,))\n",
    "        r = op(a, b)\n",
    "        frag = mv_to_code(r, \"{}_{}(r, a, b, op)\".format(name, i), \"op\")\n",
    "        frag = frag.replace(\"b.e\", \"b\")\n",
    "        frags.append(frag)\n",
    "\n",
    "    return frags\n",
    "\n",
    "def generate_unary_op(name=\"REVERSE\", op=lambda a: a.reverse()):\n",
    "    frags = []\n",
    "    for i in range(4):\n",
    "        a = alg.multivector(name=\"a\", grades=(i,))\n",
    "        r = op(a)\n",
    "        frag = mv_to_code(r, \"{}_{}(r, a)\".format(name, i), \"=\")\n",
    "        frags.append(frag)\n",
    "\n",
    "    return frags\n",
    "\n",
    "def generate_grade_op():\n",
    "    frags = []\n",
    "    for i in range(4):\n",
    "        a = alg.multivector(name=\"a\", grades=(i,))\n",
    "        r = a\n",
    "        frag = mv_to_code(r, \"{}_{}(r, a)\".format(\"GRADE\", i), \"=\")\n",
    "        frags.append(frag)\n",
    "\n",
    "    return frags\n",
    "\n",
    "\n",
    "def generate_fragments():\n",
    "    frags = []\n",
    "\n",
    "    # NO NECESSARY\n",
    "    # Geometric Product in full\n",
    "    # Outer Product in full\n",
    "    # Inner Product in full\n",
    "    # Regressive Product in full\n",
    "\n",
    "    # TOO EXPENSIVE\n",
    "    # Sandwitch(Conjugate) Product in full\n",
    "    # Project in full\n",
    "\n",
    "    # Geometric Product in grades\n",
    "    frags += generate_product_op(name=\"GP\", op=lambda a, b: a * b)\n",
    "    frags += generate_product_op_full(name=\"GP\", op=lambda a, b: a * b)\n",
    "\n",
    "    # Outer Product in grades\n",
    "    frags += generate_product_op(name=\"OP\", op=lambda a, b: a ^ b)\n",
    "    frags += generate_product_op_full(name=\"OP\", op=lambda a, b: a ^ b)\n",
    "    \n",
    "    # Inner Product in grades\n",
    "    frags += generate_product_op(name=\"IP\", op=lambda a, b: a | b)\n",
    "    frags += generate_product_op_full(name=\"IP\", op=lambda a, b: a | b)\n",
    "\n",
    "    # Regressive Product in grades\n",
    "    # TODO: check is RP splitable\n",
    "    frags += generate_product_op(name=\"RP\", op=lambda a, b: a & b)\n",
    "    frags += generate_product_op_full(name=\"RP\", op=lambda a, b: a & b)\n",
    "    \n",
    "    # Commutator Product\n",
    "    frags += generate_product_op(name=\"CP\", op=lambda a, b: a.cp(b))\n",
    "    frags += generate_product_op_full(name=\"CP\", op=lambda a, b: a.cp(b))\n",
    "\n",
    "    # Scalar Product\n",
    "    frags += [frag.replace(\"r.e\", \"r\") for frag\n",
    "               in generate_product_op_full(name=\"SP\", op=lambda a, b: a.sp(b))]\n",
    "    \n",
    "    \n",
    "    # Reverse\n",
    "    frags += generate_unary_op(name=\"REVERSE\", op=lambda a: a.reverse())\n",
    "    # Dual\n",
    "    frags += generate_unary_op(name=\"DUAL\", op=lambda a: a.dual())\n",
    "\n",
    "    # Grade\n",
    "    frags += generate_grade_op()\n",
    "    # Inverse\n",
    "    #frags += generate_unary_op(name=\"INVERSE\", op=lambda a: a.inv())\n",
    "\n",
    "    # Add\n",
    "    frags += generate_additive_op(name=\"ADD\", op=lambda a, b: a + b)\n",
    "    # Sub\n",
    "    frags += generate_additive_op(name=\"SUB\", op=lambda a, b: a - b)\n",
    "    # Scalar Mul\n",
    "    frags += generate_scalar_op(name=\"MUL\", op=lambda a, b: a * b)\n",
    "    # Scalar Div\n",
    "    frags += generate_scalar_op(name=\"DIV\", op=lambda a, b: a / b)\n",
    "\n",
    "    return \"\\n\\n\".join(frags)\n",
    "\n",
    "header = \"\"\"// Generate from https://github.com/xiongyaohua/PGA_codegen\n",
    "\n",
    "\"\"\"\n",
    "code = header + generate_fragments()\n",
    "with open(\"pga2.inc\", \"w\") as f:\n",
    "    f.write(code)"
   ]
  },
  {
   "cell_type": "code",
   "execution_count": null,
   "metadata": {},
   "outputs": [],
   "source": []
  }
 ],
 "metadata": {
  "kernelspec": {
   "display_name": ".venv",
   "language": "python",
   "name": "python3"
  },
  "language_info": {
   "codemirror_mode": {
    "name": "ipython",
    "version": 3
   },
   "file_extension": ".py",
   "mimetype": "text/x-python",
   "name": "python",
   "nbconvert_exporter": "python",
   "pygments_lexer": "ipython3",
   "version": "3.12.4"
  }
 },
 "nbformat": 4,
 "nbformat_minor": 2
}
